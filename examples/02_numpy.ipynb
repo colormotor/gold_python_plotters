{
 "cells": [
  {
   "cell_type": "markdown",
   "metadata": {},
   "source": [
    "Numpy\n",
    "====================\n",
    "\n"
   ]
  },
  {
   "cell_type": "markdown",
   "metadata": {},
   "source": [
    "Now that we have a basic grasp of Python, we can move to one of the most useful (and widely used) Python packages:\n",
    "[NumPy](https://numpy.org). Numpy allows to efficiently manipulate \"arrays\" of numbers (e.g. vectors, matrices) without needing loops and in a way that is similar to scientific computation packages such as Matlab.\n"
   ]
  },
  {
   "cell_type": "markdown",
   "metadata": {},
   "source": [
    "## Numpy (number crunching)\n",
    "\n"
   ]
  },
  {
   "cell_type": "markdown",
   "metadata": {},
   "source": [
    "Numpy is a numerical computation package that revolves around one important\n",
    "object: an `array`. It is convenion to import numpy as follows:\n",
    "\n"
   ]
  },
  {
   "cell_type": "code",
   "execution_count": 1,
   "metadata": {},
   "outputs": [],
   "source": [
    "import numpy as np"
   ]
  },
  {
   "cell_type": "markdown",
   "metadata": {},
   "source": [
    "In English: &ldquo;import the `numpy` package and (for brevity) refer to it with the\n",
    "identifier `np`&rdquo;.\n",
    "\n",
    "We will refer to numpy specific objects with the `np` namespace hereafter, so\n",
    "for example we will use `np.array` (internally the type of this object is\n",
    "actually `np.ndarray`, but this syntax is hardly used unless we want to test the\n",
    "type of an object).\n",
    "\n",
    "Technically the `np.array` behaves similarly to a Python `list`, but\n",
    "it is definitely a `list` on steroids and specifically taylored to operate on numbers.\n",
    "\n",
    "Let&rsquo;s start by creating an array from a list:\n",
    "\n"
   ]
  },
  {
   "cell_type": "code",
   "execution_count": 2,
   "metadata": {},
   "outputs": [
    {
     "name": "stdout",
     "output_type": "stream",
     "text": [
      "[0 1 2 3]\n"
     ]
    }
   ],
   "source": [
    "x = np.array([0, 1, 2, 3])\n",
    "print(x)"
   ]
  },
  {
   "cell_type": "markdown",
   "metadata": {},
   "source": [
    "We can use this array object similarly to lists, so for example\n",
    "\n"
   ]
  },
  {
   "cell_type": "code",
   "execution_count": 3,
   "metadata": {},
   "outputs": [
    {
     "name": "stdout",
     "output_type": "stream",
     "text": [
      "4\n",
      "[1 2]\n"
     ]
    }
   ],
   "source": [
    "print(len(x)) # Query its length\n",
    "print(x[1:-1]) # Slice it"
   ]
  },
  {
   "cell_type": "markdown",
   "metadata": {},
   "source": [
    "etc&#x2026;\n",
    "\n",
    "Things get more interesting if we create multidimensional arrays, let&rsquo;s start by\n",
    "automatically creating a **2d** array (say 5 rows, 10 columns) filled with zeros.\n",
    "This can be done with\n",
    "\n"
   ]
  },
  {
   "cell_type": "code",
   "execution_count": 4,
   "metadata": {},
   "outputs": [
    {
     "name": "stdout",
     "output_type": "stream",
     "text": [
      "[[0. 0. 0. 0. 0. 0. 0. 0. 0. 0.]\n",
      " [0. 0. 0. 0. 0. 0. 0. 0. 0. 0.]\n",
      " [0. 0. 0. 0. 0. 0. 0. 0. 0. 0.]\n",
      " [0. 0. 0. 0. 0. 0. 0. 0. 0. 0.]\n",
      " [0. 0. 0. 0. 0. 0. 0. 0. 0. 0.]]\n"
     ]
    }
   ],
   "source": [
    "x = np.zeros((5, 10))\n",
    "print(x)"
   ]
  },
  {
   "cell_type": "markdown",
   "metadata": {},
   "source": [
    "as you can see, the input to the function is a tuple (or a list) with the number\n",
    "of elements in the array. The format for a 2d array is `(rows, columns)` so here\n",
    "we have an array (filled with zeros) of 5 rows and 10 columns. Imagine this as a\n",
    "list of lists, but with additional functionalities that we will see soon.\n",
    "\n",
    "Note that we are not limited to 2d arrays, for example a R,G,B image could be\n",
    "represented as a `(rows, columns, 3)` array where the last 3 dimensions each\n",
    "represents a channel of the image&#x2026; more on this later when we look at\n",
    "plotting.\n",
    "\n",
    "Now if we use the `len` function on the previously created array, we will just\n",
    "know the number of **rows**\n",
    "\n"
   ]
  },
  {
   "cell_type": "code",
   "execution_count": 5,
   "metadata": {},
   "outputs": [
    {
     "name": "stdout",
     "output_type": "stream",
     "text": [
      "5\n"
     ]
    }
   ],
   "source": [
    "print(len(x))"
   ]
  },
  {
   "cell_type": "markdown",
   "metadata": {},
   "source": [
    "Again, this is like taking the `len` of a &ldquo;list of lists&rdquo;, which would simply\n",
    "give us the number of lists (i.e. the number of rows in the array).\n",
    "\n",
    "To actualy know both the number of columns we can use the `shape` property of\n",
    "`np.array`:\n",
    "\n"
   ]
  },
  {
   "cell_type": "code",
   "execution_count": 6,
   "metadata": {},
   "outputs": [],
   "source": [
    "rows, cols = x.shape"
   ]
  },
  {
   "cell_type": "markdown",
   "metadata": {},
   "source": [
    "and to know only one or the other we could do\n",
    "\n"
   ]
  },
  {
   "cell_type": "code",
   "execution_count": 7,
   "metadata": {},
   "outputs": [],
   "source": [
    "rows = x.shape[0]\n",
    "cols = x.shape[1]"
   ]
  },
  {
   "cell_type": "markdown",
   "metadata": {},
   "source": [
    "This can be interpreted as the rows being the &ldquo;height&rdquo; of the array and the\n",
    "columns the &ldquo;width&rdquo;. But note that the order is rows first and columns after.\n",
    "This has to do with how the elements of the array would ideally be stored in the\n",
    "computer&rsquo;s memory.\n",
    "\n",
    "Alternatively we can create a 1d array by passing a single number instead of a\n",
    "tuple. Let&rsquo;s say we want an array with 10 times `1.0`, we can use the `np.ones`\n",
    "function instead:\n",
    "\n"
   ]
  },
  {
   "cell_type": "code",
   "execution_count": 8,
   "metadata": {},
   "outputs": [
    {
     "data": {
      "text/plain": [
       "array([1., 1., 1., 1., 1., 1., 1., 1., 1., 1.])"
      ]
     },
     "execution_count": 8,
     "metadata": {},
     "output_type": "execute_result"
    }
   ],
   "source": [
    "y = np.ones(10)\n",
    "y"
   ]
  },
  {
   "cell_type": "markdown",
   "metadata": {},
   "source": [
    "and this has exactly the same syntax as `np.zeros`.\n",
    "\n",
    "Another very frequently used function is `np.linspace(start, end, num)`. This\n",
    "gives us an array with `num` equally spaced elements between the number `start`\n",
    "and the number `end`, e.g.:\n",
    "\n"
   ]
  },
  {
   "cell_type": "code",
   "execution_count": 9,
   "metadata": {},
   "outputs": [
    {
     "data": {
      "text/plain": [
       "array([-1.  , -0.75, -0.5 , -0.25,  0.  ,  0.25,  0.5 ,  0.75,  1.  ])"
      ]
     },
     "execution_count": 9,
     "metadata": {},
     "output_type": "execute_result"
    }
   ],
   "source": [
    "np.linspace(-1, 1, 9)"
   ]
  },
  {
   "cell_type": "markdown",
   "metadata": {},
   "source": [
    "and since `np.array` is iterable we can concisely write a for loop doing things\n",
    "(here quite pointless) with these numbers:\n",
    "\n"
   ]
  },
  {
   "cell_type": "code",
   "execution_count": 10,
   "metadata": {},
   "outputs": [
    {
     "name": "stdout",
     "output_type": "stream",
     "text": [
      "9.0 9.25 9.5 9.75 10.0 10.25 10.5 10.75 11.0 \n"
     ]
    }
   ],
   "source": [
    "txt = ''\n",
    "for t in np.linspace(-1, 1, 9):\n",
    "    txt += str(t+10) + ' '\n",
    "print(txt)"
   ]
  },
  {
   "cell_type": "markdown",
   "metadata": {},
   "source": [
    "Arrays are a very convenient representation to store the vectors we have seen in\n",
    "Week 3, and allow us to easily do operations on those.\n",
    "\n"
   ]
  },
  {
   "cell_type": "markdown",
   "metadata": {},
   "source": [
    "#### Random number generation\n",
    "\n"
   ]
  },
  {
   "cell_type": "markdown",
   "metadata": {},
   "source": [
    "Numpy also has a powerful random number generation submodule `numpy.random`.\n",
    "Because we called Numpy `np` we can directly access the functionalities of this module with `np.random`.\n",
    "We can for example generate arrays with uniform random numbers within a range with the `np.random.uniform(min, max)` function:\n",
    "\n"
   ]
  },
  {
   "cell_type": "code",
   "execution_count": 11,
   "metadata": {},
   "outputs": [
    {
     "data": {
      "text/plain": [
       "13.531505255673991"
      ]
     },
     "execution_count": 11,
     "metadata": {},
     "output_type": "execute_result"
    }
   ],
   "source": [
    "np.random.uniform(-100, 100)"
   ]
  },
  {
   "cell_type": "markdown",
   "metadata": {},
   "source": [
    "Or we can generate arrays by specifying the shape similarly to the `np.zeros` function, e.g.\n",
    "\n"
   ]
  },
  {
   "cell_type": "code",
   "execution_count": 12,
   "metadata": {},
   "outputs": [
    {
     "data": {
      "text/plain": [
       "array([[-3.77988965, -8.26130979],\n",
       "       [ 5.50020222,  2.43260077],\n",
       "       [-5.45919219, -9.19517769],\n",
       "       [-3.76811803,  2.05573769],\n",
       "       [-4.3194171 ,  1.26570007]])"
      ]
     },
     "execution_count": 12,
     "metadata": {},
     "output_type": "execute_result"
    }
   ],
   "source": [
    "np.random.uniform(-10, 10, (5, 2))"
   ]
  },
  {
   "cell_type": "markdown",
   "metadata": {},
   "source": [
    "for a 2d array, or\n",
    "\n"
   ]
  },
  {
   "cell_type": "code",
   "execution_count": 13,
   "metadata": {},
   "outputs": [
    {
     "data": {
      "text/plain": [
       "array([ 0.65701107, -0.90477405, -0.69358584,  0.40301229,  0.30739354,\n",
       "        0.45820759,  0.67942518,  0.91952451,  0.02171611, -0.92444478])"
      ]
     },
     "execution_count": 13,
     "metadata": {},
     "output_type": "execute_result"
    }
   ],
   "source": [
    "np.random.uniform(-1, 1, 10)"
   ]
  },
  {
   "cell_type": "markdown",
   "metadata": {},
   "source": [
    "for a 1d array.\n",
    "\n",
    "If we want to always get the same random values, we can set a number as a **seed**\n",
    "to the random number generator. For example, running this code multiple times\n",
    "will always return the same tow random sequences:\n",
    "\n"
   ]
  },
  {
   "cell_type": "code",
   "execution_count": 14,
   "metadata": {},
   "outputs": [
    {
     "name": "stdout",
     "output_type": "stream",
     "text": [
      "[ 0.08680988 -0.44326123 -0.15096482]\n",
      "[ 0.68955226 -0.99056229 -0.75686176  0.34149817  0.65170551]\n"
     ]
    }
   ],
   "source": [
    "np.random.seed(100)\n",
    "print(np.random.uniform(-1, 1, 3))\n",
    "print(np.random.uniform(-1, 1, 5))"
   ]
  },
  {
   "cell_type": "markdown",
   "metadata": {},
   "source": [
    "### Indexing and slicing arrays\n",
    "\n"
   ]
  },
  {
   "cell_type": "markdown",
   "metadata": {},
   "source": [
    "Numpy arrays are iterable objects and behave similarly to lists. And using the\n",
    "exact syntax we used to index and slice lists will result in the same behaviour.\n",
    "For instance the following will give us the first 3 rows of the array\n",
    "\n"
   ]
  },
  {
   "cell_type": "code",
   "execution_count": 15,
   "metadata": {},
   "outputs": [
    {
     "data": {
      "text/plain": [
       "array([[0., 0., 0., 0., 0., 0., 0., 0., 0., 0.],\n",
       "       [0., 0., 0., 0., 0., 0., 0., 0., 0., 0.],\n",
       "       [0., 0., 0., 0., 0., 0., 0., 0., 0., 0.]])"
      ]
     },
     "execution_count": 15,
     "metadata": {},
     "output_type": "execute_result"
    }
   ],
   "source": [
    "x[:3]"
   ]
  },
  {
   "cell_type": "markdown",
   "metadata": {},
   "source": [
    "while this will give us the third row\n",
    "\n"
   ]
  },
  {
   "cell_type": "code",
   "execution_count": 16,
   "metadata": {},
   "outputs": [
    {
     "data": {
      "text/plain": [
       "array([0., 0., 0., 0., 0., 0., 0., 0., 0., 0.])"
      ]
     },
     "execution_count": 16,
     "metadata": {},
     "output_type": "execute_result"
    }
   ],
   "source": [
    "x[2]"
   ]
  },
  {
   "cell_type": "markdown",
   "metadata": {},
   "source": [
    "Things start to differ from lists if we want to access a single element:\n",
    "\n"
   ]
  },
  {
   "cell_type": "code",
   "execution_count": 17,
   "metadata": {},
   "outputs": [
    {
     "data": {
      "text/plain": [
       "0.0"
      ]
     },
     "execution_count": 17,
     "metadata": {},
     "output_type": "execute_result"
    }
   ],
   "source": [
    "x[0,2]"
   ]
  },
  {
   "cell_type": "markdown",
   "metadata": {},
   "source": [
    "this could be done with the the same syntax that would work with the &ldquo;list of lists&rdquo;:\n",
    "\n"
   ]
  },
  {
   "cell_type": "code",
   "execution_count": 18,
   "metadata": {},
   "outputs": [
    {
     "data": {
      "text/plain": [
       "0.0"
      ]
     },
     "execution_count": 18,
     "metadata": {},
     "output_type": "execute_result"
    }
   ],
   "source": [
    "x[0][2]"
   ]
  },
  {
   "cell_type": "markdown",
   "metadata": {},
   "source": [
    "but the former is more concise and more frequently used. We then can also use\n",
    "the slicing syntax in a similar way, say to get the last three columns of the\n",
    "array we can do\n",
    "\n"
   ]
  },
  {
   "cell_type": "code",
   "execution_count": 19,
   "metadata": {},
   "outputs": [
    {
     "data": {
      "text/plain": [
       "array([[0., 0., 0.],\n",
       "       [0., 0., 0.],\n",
       "       [0., 0., 0.],\n",
       "       [0., 0., 0.],\n",
       "       [0., 0., 0.]])"
      ]
     },
     "execution_count": 19,
     "metadata": {},
     "output_type": "execute_result"
    }
   ],
   "source": [
    "x[:,-3:]"
   ]
  },
  {
   "cell_type": "markdown",
   "metadata": {},
   "source": [
    "where the `:` alone can be read as &ldquo;give me all the rows&rdquo;.\n",
    "Now, what would you do to get only the first three rows?\n",
    "Insert the code here:\n",
    "\n"
   ]
  },
  {
   "cell_type": "code",
   "execution_count": null,
   "metadata": {},
   "outputs": [],
   "source": []
  },
  {
   "cell_type": "markdown",
   "metadata": {},
   "source": [
    "### Adding elements, combining and &ldquo;transposing&rdquo; arrays\n",
    "\n"
   ]
  },
  {
   "cell_type": "markdown",
   "metadata": {},
   "source": [
    "One downside of `np.array` with respect to a `list` is that we cannot really use\n",
    "`append` to add elements dynamically. Well that is not a problem for a &ldquo;true\n",
    "Pythonista&rdquo;, would probably disdain doing so. We can however use the\n",
    "`np.concatenate` function to concatenate multiple arrays, or even simple Python\n",
    "lists. For example, if we wanted to add a `1.0` to a 1d array of 3 zeros we\n",
    "could do\n",
    "\n"
   ]
  },
  {
   "cell_type": "code",
   "execution_count": 27,
   "metadata": {},
   "outputs": [
    {
     "name": "stdout",
     "output_type": "stream",
     "text": [
      "[0. 0. 0.]\n",
      "[0. 0. 0. 1.]\n"
     ]
    }
   ],
   "source": [
    "y = np.zeros(3)\n",
    "print(y)\n",
    "y = np.concatenate([y, [1.0]])\n",
    "print(y)"
   ]
  },
  {
   "cell_type": "markdown",
   "metadata": {},
   "source": [
    "We can concatenate any number of arrays, e.g. let&rsquo;s make an array that looks\n",
    "like `[0.0, 0.0, 1.0, 1.0, 0.0, 0.0]`:\n",
    "\n"
   ]
  },
  {
   "cell_type": "code",
   "execution_count": 28,
   "metadata": {},
   "outputs": [
    {
     "data": {
      "text/plain": [
       "array([0., 0., 1., 1., 0., 0.])"
      ]
     },
     "execution_count": 28,
     "metadata": {},
     "output_type": "execute_result"
    }
   ],
   "source": [
    "np.concatenate([np.zeros(2), np.ones(2), np.zeros(2)])"
   ]
  },
  {
   "cell_type": "markdown",
   "metadata": {},
   "source": [
    "Now let&rsquo;s say we want to concatenate 2d arrays or combine 1d arrays to create a\n",
    "2d array. Here we can use the `np.hstack` and `np.vstack` functions, which\n",
    "respectively concatenate arrays in the &ldquo;horizontal&rdquo; and &ldquo;vertical&rdquo; directions.\n",
    "Observe this code:\n",
    "\n"
   ]
  },
  {
   "cell_type": "code",
   "execution_count": 29,
   "metadata": {},
   "outputs": [
    {
     "data": {
      "text/plain": [
       "array([[1., 1., 1.],\n",
       "       [1., 1., 1.],\n",
       "       [1., 1., 1.]])"
      ]
     },
     "execution_count": 29,
     "metadata": {},
     "output_type": "execute_result"
    }
   ],
   "source": [
    "np.vstack([np.ones(3), np.ones((2, 3))])"
   ]
  },
  {
   "cell_type": "markdown",
   "metadata": {},
   "source": [
    "Note here that for NumPy, a 1d array is a &ldquo;row&rdquo; of elements (that can get a bit\n",
    "ambiguous in certain cases, but we will not cover it here).\n",
    "\n",
    "Similarly, we can stack arrays in the horizontal direction\n",
    "\n"
   ]
  },
  {
   "cell_type": "code",
   "execution_count": 30,
   "metadata": {},
   "outputs": [
    {
     "data": {
      "text/plain": [
       "array([[1., 0., 0.],\n",
       "       [1., 0., 0.]])"
      ]
     },
     "execution_count": 30,
     "metadata": {},
     "output_type": "execute_result"
    }
   ],
   "source": [
    "A = np.hstack([np.ones((2, 1)), np.zeros((2, 2))])\n",
    "A"
   ]
  },
  {
   "cell_type": "markdown",
   "metadata": {},
   "source": [
    "These functions will only work if the size of the arrays we want to combine is\n",
    "&ldquo;compatible&rdquo;, i.e. we can only stack horizontally if arrays have the same number\n",
    "of rows, and we can only stack vertically if arrays have the number of columns.\n",
    "\n",
    "Now what if I wanted to append a column to `A` with the values `[2, 3]`? Doing\n",
    "this will not work because, as we previously mentioned, a &ldquo;1d array&rdquo; (a list is\n",
    "equivalent to one), is considered as a row:\n",
    "\n"
   ]
  },
  {
   "cell_type": "code",
   "execution_count": 31,
   "metadata": {},
   "outputs": [],
   "source": [
    "#np.hstack([A, [2, 3]])"
   ]
  },
  {
   "cell_type": "markdown",
   "metadata": {},
   "source": [
    "One can use this kind of syntax\n",
    "\n"
   ]
  },
  {
   "cell_type": "code",
   "execution_count": 32,
   "metadata": {},
   "outputs": [
    {
     "data": {
      "text/plain": [
       "array([[1., 0., 0., 2.],\n",
       "       [1., 0., 0., 3.]])"
      ]
     },
     "execution_count": 32,
     "metadata": {},
     "output_type": "execute_result"
    }
   ],
   "source": [
    "np.hstack([A, np.array([2, 3]).reshape(-1,1)])"
   ]
  },
  {
   "cell_type": "markdown",
   "metadata": {},
   "source": [
    "and [others](https://stackoverflow.com/questions/5954603/transposing-a-1d-numpy-array), or use an operation known as &ldquo;transpose&rdquo;, which can be handy also in\n",
    "other cases.\n",
    "\n"
   ]
  },
  {
   "cell_type": "markdown",
   "metadata": {},
   "source": [
    "#### Transposing\n",
    "\n"
   ]
  },
  {
   "cell_type": "markdown",
   "metadata": {},
   "source": [
    "For 2d array we can do a transpose operation, a term that comes from &ldquo;matrices&rdquo;\n",
    "in linear algebra, which are also represented as 2d grids of numbers. Indeed 2d\n",
    "numpy arrays are convenient representation of these mathematical objects, which\n",
    "are fundamental to most machine learning techniques we will be using. We won&rsquo;t\n",
    "conver these mathematical details but the interested reader can refer for\n",
    "example to [https://www.statlect.com/matrix-algebra/>](https://www.statlect.com/matrix-algebra/>)for a primer.\n",
    "\n",
    "Anyhow, transposing an array simply means &ldquo;transforming&rdquo; it so rows become\n",
    "columns and columns become rows. Say we create an array as follows:\n",
    "\n"
   ]
  },
  {
   "cell_type": "code",
   "execution_count": 33,
   "metadata": {},
   "outputs": [
    {
     "data": {
      "text/plain": [
       "array([[0., 1., 2., 3., 4.],\n",
       "       [1., 2., 3., 4., 5.]])"
      ]
     },
     "execution_count": 33,
     "metadata": {},
     "output_type": "execute_result"
    }
   ],
   "source": [
    "B = np.vstack([np.linspace(0, 4, 5),\n",
    "               np.linspace(1, 5, 5)])\n",
    "B"
   ]
  },
  {
   "cell_type": "markdown",
   "metadata": {},
   "source": [
    "The transpose is given by the &ldquo;property&rdquo; `.T` as follows:\n",
    "\n"
   ]
  },
  {
   "cell_type": "code",
   "execution_count": 34,
   "metadata": {},
   "outputs": [
    {
     "data": {
      "text/plain": [
       "array([[0., 1.],\n",
       "       [1., 2.],\n",
       "       [2., 3.],\n",
       "       [3., 4.],\n",
       "       [4., 5.]])"
      ]
     },
     "execution_count": 34,
     "metadata": {},
     "output_type": "execute_result"
    }
   ],
   "source": [
    "B.T"
   ]
  },
  {
   "cell_type": "markdown",
   "metadata": {},
   "source": [
    "Now to add a coumn to the previous `A` array, we could do:\n",
    "\n"
   ]
  },
  {
   "cell_type": "code",
   "execution_count": 35,
   "metadata": {},
   "outputs": [
    {
     "data": {
      "text/plain": [
       "array([[1., 0., 0., 2.],\n",
       "       [1., 0., 0., 3.]])"
      ]
     },
     "execution_count": 35,
     "metadata": {},
     "output_type": "execute_result"
    }
   ],
   "source": [
    "np.vstack([A.T, [2, 3]]).T"
   ]
  },
  {
   "attachments": {},
   "cell_type": "markdown",
   "metadata": {},
   "source": [
    "### Reshaping arrays\n",
    "In machine learning applications we will often encounter cases where we need to reshape a numpy array so it is compatible with the inputs of a given machine learning model.\n",
    "For example, we will see image-based models that are trained on batches of multiple RGB images with shape `(height, width, 3)`, which are stored as a single array with shape `(number_of_images, height, width, 3)`. If we want to use such a model with a single image, we need to reshape an array by adding a dummy dimension. This can be done with the `np.expand_dims` function or the `reshape` method of the array itself. As long as we add *one* dimension, the order of the data in the array will remain unchanged.\n",
    "So for example given an array:"
   ]
  },
  {
   "cell_type": "code",
   "execution_count": 36,
   "metadata": {},
   "outputs": [
    {
     "name": "stdout",
     "output_type": "stream",
     "text": [
      "(600, 800, 3)\n"
     ]
    }
   ],
   "source": [
    "img = np.zeros((600, 800, 3))\n",
    "print(img.shape)"
   ]
  },
  {
   "attachments": {},
   "cell_type": "markdown",
   "metadata": {},
   "source": [
    "We can equivalently do:"
   ]
  },
  {
   "cell_type": "code",
   "execution_count": 37,
   "metadata": {},
   "outputs": [
    {
     "name": "stdout",
     "output_type": "stream",
     "text": [
      "(1, 600, 800, 3)\n"
     ]
    }
   ],
   "source": [
    "img2 = img.reshape((1, 600, 800, 3))\n",
    "print(img2.shape)"
   ]
  },
  {
   "attachments": {},
   "cell_type": "markdown",
   "metadata": {},
   "source": [
    "Or"
   ]
  },
  {
   "cell_type": "code",
   "execution_count": 38,
   "metadata": {},
   "outputs": [
    {
     "name": "stdout",
     "output_type": "stream",
     "text": [
      "(1, 600, 800, 3)\n"
     ]
    }
   ],
   "source": [
    "img2 = np.expand_dims(img, 0)\n",
    "print(img2.shape)"
   ]
  },
  {
   "attachments": {},
   "cell_type": "markdown",
   "metadata": {},
   "source": [
    "In another instance we will see grayscale images that are loaded as arrays of shape `(height, width)`. In this case we will need to add two dummy dimension, one at the beginning and one at the end resulting in a shape of `(number_of_images, height, width, 1)`. This stands for \"one image of width, height with one channel\". Again since we add single dimensions we are effectively not modifying the number of elements in the array. So in this instance, given an image"
   ]
  },
  {
   "cell_type": "code",
   "execution_count": 39,
   "metadata": {},
   "outputs": [
    {
     "data": {
      "text/plain": [
       "(600, 800)"
      ]
     },
     "execution_count": 39,
     "metadata": {},
     "output_type": "execute_result"
    }
   ],
   "source": [
    "img = np.zeros((600, 800))\n",
    "img.shape"
   ]
  },
  {
   "attachments": {},
   "cell_type": "markdown",
   "metadata": {},
   "source": [
    "We would do:"
   ]
  },
  {
   "cell_type": "code",
   "execution_count": 40,
   "metadata": {},
   "outputs": [
    {
     "data": {
      "text/plain": [
       "(1, 600, 800, 1)"
      ]
     },
     "execution_count": 40,
     "metadata": {},
     "output_type": "execute_result"
    }
   ],
   "source": [
    "img2 = img.reshape((1, 600, 800, 1))\n",
    "img2.shape"
   ]
  },
  {
   "cell_type": "markdown",
   "metadata": {},
   "source": [
    "### Mathematical operations on arrays\n",
    "\n"
   ]
  },
  {
   "cell_type": "markdown",
   "metadata": {},
   "source": [
    "Ok, now to some more &ldquo;meaty&rdquo; things we can do with arrays. Differntly from\n",
    "lists, we can do operations with arrays such as multiplication, addition etc..etc&#x2026;\n",
    "\n",
    "Multiplying/dividing/adding/subtracting/raising-to-a-power with a single number,\n",
    "applies the operation to all elements in an array. So now, finally, we can make\n",
    "an array all of 9&rsquo;s!\n",
    "\n"
   ]
  },
  {
   "cell_type": "code",
   "execution_count": 41,
   "metadata": {},
   "outputs": [
    {
     "data": {
      "text/plain": [
       "array([[9., 9., 9.],\n",
       "       [9., 9., 9.],\n",
       "       [9., 9., 9.],\n",
       "       [9., 9., 9.],\n",
       "       [9., 9., 9.]])"
      ]
     },
     "execution_count": 41,
     "metadata": {},
     "output_type": "execute_result"
    }
   ],
   "source": [
    "np.ones((5,3))*9"
   ]
  },
  {
   "cell_type": "markdown",
   "metadata": {},
   "source": [
    "As a small exercise, try creating the same array with addition.\n",
    "\n",
    "We can also apply other operations in &ldquo;batch&rdquo; form for example let&rsquo;s take the square root of\n",
    "a sequence of numbers:\n",
    "\n"
   ]
  },
  {
   "cell_type": "code",
   "execution_count": 42,
   "metadata": {},
   "outputs": [
    {
     "data": {
      "text/plain": [
       "array([0.        , 1.87082869, 2.64575131])"
      ]
     },
     "execution_count": 42,
     "metadata": {},
     "output_type": "execute_result"
    }
   ],
   "source": [
    "np.sqrt(np.linspace(0, 7, 3))"
   ]
  },
  {
   "cell_type": "markdown",
   "metadata": {},
   "source": [
    "See [https://numpy.org/doc/stable/reference/routines.math.html>](https://numpy.org/doc/stable/reference/routines.math.html>)for a list of\n",
    "available operations.\n",
    "\n",
    "As another example we can very rapidly get the values of a\n",
    "cosine wave with an expression such as\n",
    "\n"
   ]
  },
  {
   "cell_type": "code",
   "execution_count": 43,
   "metadata": {},
   "outputs": [
    {
     "data": {
      "text/plain": [
       "array([ 1.        ,  0.94581724,  0.78914051,  0.54694816,  0.24548549,\n",
       "       -0.08257935, -0.40169542, -0.67728157, -0.87947375, -0.9863613 ,\n",
       "       -0.9863613 , -0.87947375, -0.67728157, -0.40169542, -0.08257935,\n",
       "        0.24548549,  0.54694816,  0.78914051,  0.94581724,  1.        ])"
      ]
     },
     "execution_count": 43,
     "metadata": {},
     "output_type": "execute_result"
    }
   ],
   "source": [
    "np.cos(np.linspace(0, np.pi*2, 20))"
   ]
  },
  {
   "cell_type": "markdown",
   "metadata": {},
   "source": [
    "&#x2026;we will plot this one soon.\n",
    "\n",
    "As long as two arrays have the same dimension, we can also\n",
    "multiply/add/subtract/divide **between them**, e.g:\n",
    "\n"
   ]
  },
  {
   "cell_type": "code",
   "execution_count": 44,
   "metadata": {},
   "outputs": [
    {
     "data": {
      "text/plain": [
       "array([-2. , -1.5, -1. , -0.5,  0. ])"
      ]
     },
     "execution_count": 44,
     "metadata": {},
     "output_type": "execute_result"
    }
   ],
   "source": [
    "np.linspace(0, 1, 5) + np.linspace(-2, -1, 5)"
   ]
  },
  {
   "cell_type": "markdown",
   "metadata": {},
   "source": [
    "Or\n",
    "\n"
   ]
  },
  {
   "cell_type": "code",
   "execution_count": 45,
   "metadata": {},
   "outputs": [
    {
     "data": {
      "text/plain": [
       "array([[1., 0., 0.],\n",
       "       [0., 2., 0.],\n",
       "       [0., 0., 5.]])"
      ]
     },
     "execution_count": 45,
     "metadata": {},
     "output_type": "execute_result"
    }
   ],
   "source": [
    "np.array([[1, 2, 3],\n",
    "          [4, 2, 4],\n",
    "          [3, 3, 5]])*np.eye(3)"
   ]
  },
  {
   "cell_type": "markdown",
   "metadata": {},
   "source": [
    "where `np.eye(num)` gives us a square array with `num` columns and ones along\n",
    "the diagonal. Again these operations are element-wise and require the arrays to\n",
    "have exactly the same shape. When dealing with with 2d arrays, this form of\n",
    "multiplication is &ldquo;unusual&rdquo; as typically 2d array represent matrices and\n",
    "multiplication between matrices is not element-wise and obeys specific rules and\n",
    "restrictions (it is fundamental to artificial neural networks). If you want to\n",
    "sound sophisticated with nerd friends, this element-wise form of multiplication\n",
    "has a special name, it is called the [&ldquo;Hadamard product&rdquo;](https://en.wikipedia.org/wiki/Hadamard_product_(matrices)) (say it with a serious\n",
    "face while stroking your chin), which also shows how math sometimes sounds\n",
    "scarier than what it actually is.\n",
    "\n"
   ]
  },
  {
   "cell_type": "markdown",
   "metadata": {},
   "source": [
    "### More operations on arrays\n",
    "\n"
   ]
  },
  {
   "cell_type": "markdown",
   "metadata": {},
   "source": [
    "Numpy provides some useful functions to examine and manipulate arrays. The\n",
    "`np.max` and `np.min` functions give us the maximum and minimum value of an\n",
    "array (or even a list). For example\n",
    "\n"
   ]
  },
  {
   "cell_type": "code",
   "execution_count": 46,
   "metadata": {},
   "outputs": [
    {
     "name": "stdout",
     "output_type": "stream",
     "text": [
      "[-7.26586821  1.50186659  7.82643909 -5.81595756 -6.29343561 -7.83246219\n",
      " -5.60605015  9.57247569  6.23366298 -6.56117975]\n",
      "Maximum is: 9.572475694147393\n"
     ]
    }
   ],
   "source": [
    "z = np.random.uniform(-10, 10, 10) # generate an array with 10 random values between -10 and 10\n",
    "print(z)\n",
    "print('Maximum is: ' + str(np.max(z)))"
   ]
  },
  {
   "cell_type": "markdown",
   "metadata": {},
   "source": [
    "This could be used for example to normalize the array\n",
    "\n"
   ]
  },
  {
   "cell_type": "code",
   "execution_count": 47,
   "metadata": {},
   "outputs": [
    {
     "data": {
      "text/plain": [
       "array([0.03255363, 0.53630348, 0.89968154, 0.11585819, 0.08842471,\n",
       "       0.        , 0.12791841, 1.        , 0.80816865, 0.07304148])"
      ]
     },
     "execution_count": 47,
     "metadata": {},
     "output_type": "execute_result"
    }
   ],
   "source": [
    "(z - np.min(z)) / (np.max(z) - np.min(z))"
   ]
  },
  {
   "cell_type": "markdown",
   "metadata": {},
   "source": [
    "Another couple of particularly useful functions ar `np.argmin` and `np.argmax`. These give us **the index** of the minimum and maximum value in an array (or a list).\n",
    "One example use of these functions is in a classification setting. Say our classifier gives us a series of probabilities for given classes. We can concisely find the maximum class (as an index) with\n",
    "\n"
   ]
  },
  {
   "cell_type": "code",
   "execution_count": 48,
   "metadata": {},
   "outputs": [
    {
     "name": "stdout",
     "output_type": "stream",
     "text": [
      "[0.3, 0.5, 0.1, 0.1]\n",
      "Maximum is 1\n"
     ]
    }
   ],
   "source": [
    "p = [0.3, 0.5, 0.1, 0.1]\n",
    "print(p)\n",
    "print(\"Maximum is \" + str(np.argmax(p)))"
   ]
  },
  {
   "cell_type": "markdown",
   "metadata": {},
   "source": [
    "Note that here we used a simple list and not an array.\n",
    "\n",
    "One more useful function is `np.sum`. It  sums all the values in an array and returns the result.\n",
    "E.g.\n",
    "\n"
   ]
  },
  {
   "cell_type": "code",
   "execution_count": 49,
   "metadata": {},
   "outputs": [
    {
     "name": "stdout",
     "output_type": "stream",
     "text": [
      "[0.         1.66666667 3.33333333 5.        ]\n",
      "10.0\n"
     ]
    }
   ],
   "source": [
    "z = np.linspace(0, 5, 4)\n",
    "print(z)\n",
    "print(np.sum(z))"
   ]
  },
  {
   "cell_type": "markdown",
   "metadata": {},
   "source": [
    "For multi-dimensional arrays it is possible to also sum along rows, or columns, etc.., by specifying the `axis` optional argument:\n",
    "\n"
   ]
  },
  {
   "cell_type": "code",
   "execution_count": 50,
   "metadata": {},
   "outputs": [
    {
     "name": "stdout",
     "output_type": "stream",
     "text": [
      "[[1. 1. 1. 1.]\n",
      " [1. 1. 1. 1.]\n",
      " [1. 1. 1. 1.]]\n",
      "[3. 3. 3. 3.]\n",
      "[4. 4. 4.]\n"
     ]
    }
   ],
   "source": [
    "z = np.ones((3, 4))\n",
    "print(z)\n",
    "print(np.sum(z, axis=0)) # sum along columns\n",
    "print(np.sum(z, axis=1)) # sum along rows"
   ]
  },
  {
   "cell_type": "markdown",
   "metadata": {},
   "source": [
    "In this case the result is an array and not a number. The same &ldquo;axis&rdquo; trick also holds for `np.min` and `np.max` and many other functions.\n",
    "\n"
   ]
  }
 ],
 "metadata": {
  "kernelspec": {
   "display_name": "Python 3 (ipykernel)",
   "language": "python",
   "name": "python3"
  },
  "language_info": {
   "codemirror_mode": {
    "name": "ipython",
    "version": 3
   },
   "file_extension": ".py",
   "mimetype": "text/x-python",
   "name": "python",
   "nbconvert_exporter": "python",
   "pygments_lexer": "ipython3",
   "version": "3.9.18"
  },
  "org": null,
  "vscode": {
   "interpreter": {
    "hash": "1c544d3133b9d8c6f36fca025551af31afa9ef134259e7064ad6be0c15e6401c"
   }
  }
 },
 "nbformat": 4,
 "nbformat_minor": 1
}
